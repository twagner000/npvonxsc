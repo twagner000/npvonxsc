{
 "cells": [
  {
   "cell_type": "code",
   "execution_count": null,
   "id": "3db815f0",
   "metadata": {},
   "outputs": [],
   "source": [
    "import pandas as pd"
   ]
  },
  {
   "cell_type": "markdown",
   "id": "0f1be725",
   "metadata": {},
   "source": [
    "### Question 1\n",
    "\n",
    "Extract all items from the list that end in `-100`."
   ]
  },
  {
   "cell_type": "code",
   "execution_count": null,
   "id": "94d78f45",
   "metadata": {
    "ExecuteTime": {
     "end_time": "2021-09-30T23:07:12.883985Z",
     "start_time": "2021-09-30T23:07:12.878683Z"
    }
   },
   "outputs": [],
   "source": [
    "my_list = [\n",
    "    'DJ4022-001', 'DA1102-100', 'CT1268-100', 'BQ0103-106', 'BV2078-008',\n",
    "    'CU4826-101', 'CN8560-404', 'DA8854-001', 'BQ9647-009', 'CW8190-300',\n",
    "    '580456-710', 'BQ4632-002', 'CZ0220-124', 'DB1560-100', 'CU5287-101',\n",
    "    'DC5562-400', 'CV0985-004', 'DA2782-004', 'CQ7635-600', 'DA2748-105',\n",
    "    'CU3958-005', 'DC9093-001', 'DA2638-500', 'CU3959-005', 'CZ1055-116',\n",
    "    'CU3579-400', 'DA5382-108', 'CJ3818-104', 'CU3503-004', 'CU4826-400',\n",
    "]"
   ]
  },
  {
   "cell_type": "code",
   "execution_count": null,
   "id": "7dc0aac6",
   "metadata": {},
   "outputs": [],
   "source": []
  },
  {
   "cell_type": "code",
   "execution_count": null,
   "id": "9e8636b7",
   "metadata": {},
   "outputs": [],
   "source": []
  },
  {
   "cell_type": "code",
   "execution_count": null,
   "id": "37dc1aed",
   "metadata": {},
   "outputs": [],
   "source": []
  },
  {
   "cell_type": "code",
   "execution_count": null,
   "id": "5006f0ad",
   "metadata": {},
   "outputs": [],
   "source": []
  },
  {
   "cell_type": "code",
   "execution_count": null,
   "id": "dee42ac6",
   "metadata": {},
   "outputs": [],
   "source": []
  },
  {
   "cell_type": "code",
   "execution_count": null,
   "id": "e6d296a3",
   "metadata": {},
   "outputs": [],
   "source": []
  },
  {
   "cell_type": "markdown",
   "id": "c335f8ec",
   "metadata": {},
   "source": [
    "### Question 2\n",
    "\n",
    "You've been provided a CSV of a fictional backlog of orders. You can fulfill 200 units of apparel + 200 units of footwear. Using Python and applying FIFO, what's the timestamp of the last fully completed a) apparel order and b) footwear order?"
   ]
  },
  {
   "cell_type": "code",
   "execution_count": null,
   "id": "b64ff5fb",
   "metadata": {
    "ExecuteTime": {
     "end_time": "2021-09-30T23:07:13.227279Z",
     "start_time": "2021-09-30T23:07:13.170007Z"
    }
   },
   "outputs": [],
   "source": [
    "pd.read_csv('sample_data.csv')"
   ]
  },
  {
   "cell_type": "code",
   "execution_count": null,
   "id": "4d5c8253",
   "metadata": {},
   "outputs": [],
   "source": []
  },
  {
   "cell_type": "code",
   "execution_count": null,
   "id": "d91d8592",
   "metadata": {},
   "outputs": [],
   "source": []
  },
  {
   "cell_type": "code",
   "execution_count": null,
   "id": "a23de2a3",
   "metadata": {},
   "outputs": [],
   "source": []
  },
  {
   "cell_type": "code",
   "execution_count": null,
   "id": "b5a30422",
   "metadata": {},
   "outputs": [],
   "source": []
  },
  {
   "cell_type": "code",
   "execution_count": null,
   "id": "fa057592",
   "metadata": {},
   "outputs": [],
   "source": []
  },
  {
   "cell_type": "code",
   "execution_count": null,
   "id": "27b368b2",
   "metadata": {},
   "outputs": [],
   "source": []
  }
 ],
 "metadata": {
  "kernelspec": {
   "display_name": "Python 3",
   "language": "python",
   "name": "python3"
  },
  "language_info": {
   "codemirror_mode": {
    "name": "ipython",
    "version": 3
   },
   "file_extension": ".py",
   "mimetype": "text/x-python",
   "name": "python",
   "nbconvert_exporter": "python",
   "pygments_lexer": "ipython3",
   "version": "3.7.11"
  }
 },
 "nbformat": 4,
 "nbformat_minor": 5
}
