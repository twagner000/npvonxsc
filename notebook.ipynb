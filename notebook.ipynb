{
 "cells": [
  {
   "cell_type": "markdown",
   "id": "7c53c702",
   "metadata": {},
   "source": [
    "You've been provided a CSV of a fictional backlog of orders. You can fulfill 200 units of apparel + 200 units of footwear. Using Python and applying FIFO, what's the timestamp of the last fully completed a) apparel order and b) footwear order?"
   ]
  },
  {
   "cell_type": "code",
   "execution_count": null,
   "id": "c9452ae2",
   "metadata": {},
   "outputs": [],
   "source": []
  }
 ],
 "metadata": {
  "kernelspec": {
   "display_name": "Python 3",
   "language": "python",
   "name": "python3"
  },
  "language_info": {
   "codemirror_mode": {
    "name": "ipython",
    "version": 3
   },
   "file_extension": ".py",
   "mimetype": "text/x-python",
   "name": "python",
   "nbconvert_exporter": "python",
   "pygments_lexer": "ipython3",
   "version": "3.7.11"
  }
 },
 "nbformat": 4,
 "nbformat_minor": 5
}
