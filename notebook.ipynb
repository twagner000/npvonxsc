{
 "cells": [
  {
   "cell_type": "markdown",
   "id": "fed16bf2",
   "metadata": {},
   "source": [
    "You've been provided a CSV of a fictional backlog of orders. You can fulfill 200 units of apparel + 200 units of footwear. Using Python and applying FIFO, what's the timestamp of the last fully completed a) apparel order and b) footwear order?"
   ]
  },
  {
   "cell_type": "code",
   "execution_count": 1,
   "id": "a7595ff4",
   "metadata": {
    "ExecuteTime": {
     "end_time": "2021-09-30T15:27:58.197314Z",
     "start_time": "2021-09-30T15:27:57.918943Z"
    }
   },
   "outputs": [],
   "source": [
    "import pandas as pd"
   ]
  },
  {
   "cell_type": "code",
   "execution_count": 2,
   "id": "e1c08396",
   "metadata": {
    "ExecuteTime": {
     "end_time": "2021-09-30T15:27:58.211727Z",
     "start_time": "2021-09-30T15:27:58.198577Z"
    }
   },
   "outputs": [
    {
     "data": {
      "text/html": [
       "<div>\n",
       "<style scoped>\n",
       "    .dataframe tbody tr th:only-of-type {\n",
       "        vertical-align: middle;\n",
       "    }\n",
       "\n",
       "    .dataframe tbody tr th {\n",
       "        vertical-align: top;\n",
       "    }\n",
       "\n",
       "    .dataframe thead th {\n",
       "        text-align: right;\n",
       "    }\n",
       "</style>\n",
       "<table border=\"1\" class=\"dataframe\">\n",
       "  <thead>\n",
       "    <tr style=\"text-align: right;\">\n",
       "      <th></th>\n",
       "      <th>prod_eng</th>\n",
       "      <th>dt_received</th>\n",
       "      <th>qty</th>\n",
       "    </tr>\n",
       "  </thead>\n",
       "  <tbody>\n",
       "    <tr>\n",
       "      <th>0</th>\n",
       "      <td>footwear</td>\n",
       "      <td>9/6/21 1:38</td>\n",
       "      <td>1</td>\n",
       "    </tr>\n",
       "    <tr>\n",
       "      <th>1</th>\n",
       "      <td>footwear</td>\n",
       "      <td>9/6/21 14:57</td>\n",
       "      <td>18</td>\n",
       "    </tr>\n",
       "    <tr>\n",
       "      <th>2</th>\n",
       "      <td>footwear</td>\n",
       "      <td>9/1/21 23:42</td>\n",
       "      <td>19</td>\n",
       "    </tr>\n",
       "    <tr>\n",
       "      <th>3</th>\n",
       "      <td>footwear</td>\n",
       "      <td>9/6/21 20:21</td>\n",
       "      <td>28</td>\n",
       "    </tr>\n",
       "    <tr>\n",
       "      <th>4</th>\n",
       "      <td>apparel</td>\n",
       "      <td>9/3/21 20:14</td>\n",
       "      <td>12</td>\n",
       "    </tr>\n",
       "    <tr>\n",
       "      <th>...</th>\n",
       "      <td>...</td>\n",
       "      <td>...</td>\n",
       "      <td>...</td>\n",
       "    </tr>\n",
       "    <tr>\n",
       "      <th>95</th>\n",
       "      <td>footwear</td>\n",
       "      <td>9/5/21 22:57</td>\n",
       "      <td>4</td>\n",
       "    </tr>\n",
       "    <tr>\n",
       "      <th>96</th>\n",
       "      <td>footwear</td>\n",
       "      <td>9/7/21 23:10</td>\n",
       "      <td>17</td>\n",
       "    </tr>\n",
       "    <tr>\n",
       "      <th>97</th>\n",
       "      <td>footwear</td>\n",
       "      <td>9/4/21 5:23</td>\n",
       "      <td>28</td>\n",
       "    </tr>\n",
       "    <tr>\n",
       "      <th>98</th>\n",
       "      <td>footwear</td>\n",
       "      <td>9/1/21 7:24</td>\n",
       "      <td>17</td>\n",
       "    </tr>\n",
       "    <tr>\n",
       "      <th>99</th>\n",
       "      <td>apparel</td>\n",
       "      <td>9/3/21 11:19</td>\n",
       "      <td>3</td>\n",
       "    </tr>\n",
       "  </tbody>\n",
       "</table>\n",
       "<p>100 rows × 3 columns</p>\n",
       "</div>"
      ],
      "text/plain": [
       "    prod_eng   dt_received  qty\n",
       "0   footwear   9/6/21 1:38    1\n",
       "1   footwear  9/6/21 14:57   18\n",
       "2   footwear  9/1/21 23:42   19\n",
       "3   footwear  9/6/21 20:21   28\n",
       "4    apparel  9/3/21 20:14   12\n",
       "..       ...           ...  ...\n",
       "95  footwear  9/5/21 22:57    4\n",
       "96  footwear  9/7/21 23:10   17\n",
       "97  footwear   9/4/21 5:23   28\n",
       "98  footwear   9/1/21 7:24   17\n",
       "99   apparel  9/3/21 11:19    3\n",
       "\n",
       "[100 rows x 3 columns]"
      ]
     },
     "execution_count": 2,
     "metadata": {},
     "output_type": "execute_result"
    }
   ],
   "source": [
    "pd.read_csv('sample_data.csv')"
   ]
  },
  {
   "cell_type": "code",
   "execution_count": null,
   "id": "5a4987ef",
   "metadata": {},
   "outputs": [],
   "source": []
  }
 ],
 "metadata": {
  "kernelspec": {
   "display_name": "Python 3",
   "language": "python",
   "name": "python3"
  },
  "language_info": {
   "codemirror_mode": {
    "name": "ipython",
    "version": 3
   },
   "file_extension": ".py",
   "mimetype": "text/x-python",
   "name": "python",
   "nbconvert_exporter": "python",
   "pygments_lexer": "ipython3",
   "version": "3.7.11"
  }
 },
 "nbformat": 4,
 "nbformat_minor": 5
}
